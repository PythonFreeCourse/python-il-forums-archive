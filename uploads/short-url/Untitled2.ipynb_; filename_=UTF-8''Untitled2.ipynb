{
 "cells": [
  {
   "cell_type": "code",
   "execution_count": 5,
   "metadata": {},
   "outputs": [],
   "source": [
    "import itertools\n",
    "import hashlib\n",
    "import string\n",
    "\n",
    "from typing import Iterable\n",
    "\n",
    "\n",
    "CHARS = string.ascii_letters + string.digits\n",
    "\n",
    "\n",
    "def create_all_strings(length: int) -> Iterable[str]:\n",
    "    for s in itertools.combinations_with_replacement(CHARS, r=length):\n",
    "        yield ''.join(s)\n",
    "\n",
    "\n",
    "def hash_md5(s: str) -> str:\n",
    "    return hashlib.md5(s.encode('utf-8')).hexdigest()\n",
    "\n",
    "\n",
    "n = {hash_md5(s): s for s in create_all_strings(length=4)}"
   ]
  },
  {
   "cell_type": "code",
   "execution_count": 6,
   "metadata": {},
   "outputs": [
    {
     "data": {
      "text/plain": [
       "'1234'"
      ]
     },
     "execution_count": 6,
     "metadata": {},
     "output_type": "execute_result"
    }
   ],
   "source": [
    "n['81dc9bdb52d04dc20036dbd8313ed055']"
   ]
  },
  {
   "cell_type": "code",
   "execution_count": 9,
   "metadata": {},
   "outputs": [
    {
     "data": {
      "text/plain": [
       "'1563e711a861c229ded27eb665b92420'"
      ]
     },
     "execution_count": 9,
     "metadata": {},
     "output_type": "execute_result"
    }
   ],
   "source": [
    "password = 'yossi123'\n",
    "salt = 'weat%gvEe4^urjthDWt653y$'\n",
    "\n",
    "hash_md5(password + salt)"
   ]
  },
  {
   "cell_type": "code",
   "execution_count": 12,
   "metadata": {},
   "outputs": [
    {
     "data": {
      "text/plain": [
       "True"
      ]
     },
     "execution_count": 12,
     "metadata": {},
     "output_type": "execute_result"
    }
   ],
   "source": [
    "db_hash = '1563e711a861c229ded27eb665b92420'\n",
    "db_salt = 'weat%gvEe4^urjthDWt653y$'\n",
    "input_password = ''\n",
    "\n",
    "hash_md5(input_password + db_salt) == db_hash"
   ]
  },
  {
   "cell_type": "code",
   "execution_count": 16,
   "metadata": {},
   "outputs": [],
   "source": [
    "from typing import Union\n",
    "\n",
    "\n",
    "def plus(a: Union[int, float], b: Union[int, float]) -> Union[int, float]:\n",
    "    return a + b"
   ]
  },
  {
   "cell_type": "code",
   "execution_count": 17,
   "metadata": {},
   "outputs": [
    {
     "data": {
      "text/plain": [
       "8"
      ]
     },
     "execution_count": 17,
     "metadata": {},
     "output_type": "execute_result"
    }
   ],
   "source": [
    "plus(5, 3)"
   ]
  },
  {
   "cell_type": "code",
   "execution_count": 18,
   "metadata": {},
   "outputs": [
    {
     "data": {
      "text/plain": [
       "8"
      ]
     },
     "execution_count": 18,
     "metadata": {},
     "output_type": "execute_result"
    }
   ],
   "source": [
    "plus(6, 2)"
   ]
  },
  {
   "cell_type": "code",
   "execution_count": 19,
   "metadata": {},
   "outputs": [
    {
     "data": {
      "text/plain": [
       "8.0"
      ]
     },
     "execution_count": 19,
     "metadata": {},
     "output_type": "execute_result"
    }
   ],
   "source": [
    "plus(1.5, 6.5)"
   ]
  },
  {
   "cell_type": "code",
   "execution_count": 20,
   "metadata": {},
   "outputs": [
    {
     "data": {
      "text/plain": [
       "8"
      ]
     },
     "execution_count": 20,
     "metadata": {},
     "output_type": "execute_result"
    }
   ],
   "source": [
    "plus(1, 7)"
   ]
  },
  {
   "cell_type": "code",
   "execution_count": 21,
   "metadata": {},
   "outputs": [
    {
     "data": {
      "text/plain": [
       "8"
      ]
     },
     "execution_count": 21,
     "metadata": {},
     "output_type": "execute_result"
    }
   ],
   "source": [
    "plus(3, 5)"
   ]
  },
  {
   "cell_type": "raw",
   "metadata": {},
   "source": [
    "hash - פונקציית גיבוב חד כיוונית md5 (sha256, sha2, ...)\n",
    "salt - להוסיף מחרוזת ארוכה שמוגרלת עבור כל משתמש, שתשורשר לסיסמה שלו, ורק אז נבצע את ה־hash.\n",
    "        זה ימנע מגורם עוין לפענח את כל מסד הנתונים במכה.\n",
    "rounds/cost - במקום לבצע את פונקציית הגיבוב פעם אחת, אנחנו מבצעים את פונקציית הגיבוב עשרות פעמים.\n",
    "              לנו יקח *100 זמן (לדוגמה) על סיסמה אחת, לתוקף יקח *100 זמן על המון סיסמאות."
   ]
  },
  {
   "cell_type": "raw",
   "metadata": {},
   "source": [
    "$6$10$N9qo8uLOickgx2ZMRZoMyeIjZAgcfl7p92ldGxad68LJZdL17lhWy\n",
    "\n",
    "2 ** n?\n",
    "1 - 2\n",
    "2 - 4\n",
    "3 - 8\n",
    "4 - 16\n",
    "8 - 256\n",
    "10 - 1024\n",
    "md5(md5(md5('yossi123')))"
   ]
  },
  {
   "cell_type": "code",
   "execution_count": 22,
   "metadata": {},
   "outputs": [],
   "source": [
    "import bcrypt"
   ]
  },
  {
   "cell_type": "code",
   "execution_count": 23,
   "metadata": {},
   "outputs": [
    {
     "data": {
      "text/plain": [
       "['__about__',\n",
       " '__all__',\n",
       " '__author__',\n",
       " '__builtins__',\n",
       " '__cached__',\n",
       " '__copyright__',\n",
       " '__doc__',\n",
       " '__email__',\n",
       " '__file__',\n",
       " '__license__',\n",
       " '__loader__',\n",
       " '__name__',\n",
       " '__package__',\n",
       " '__path__',\n",
       " '__spec__',\n",
       " '__summary__',\n",
       " '__title__',\n",
       " '__uri__',\n",
       " '__version__',\n",
       " '_bcrypt',\n",
       " '_bcrypt_assert',\n",
       " '_normalize_re',\n",
       " 'absolute_import',\n",
       " 'checkpw',\n",
       " 'division',\n",
       " 'gensalt',\n",
       " 'hashpw',\n",
       " 'kdf',\n",
       " 'os',\n",
       " 're',\n",
       " 'six',\n",
       " 'warnings']"
      ]
     },
     "execution_count": 23,
     "metadata": {},
     "output_type": "execute_result"
    }
   ],
   "source": [
    "dir(bcrypt)"
   ]
  },
  {
   "cell_type": "code",
   "execution_count": 28,
   "metadata": {},
   "outputs": [
    {
     "ename": "TypeError",
     "evalue": "hashpw() got an unexpected keyword argument 'rounds'",
     "output_type": "error",
     "traceback": [
      "\u001b[0;31m---------------------------------------------------------------------------\u001b[0m",
      "\u001b[0;31mTypeError\u001b[0m                                 Traceback (most recent call last)",
      "\u001b[0;32m<ipython-input-28-163661c686da>\u001b[0m in \u001b[0;36m<module>\u001b[0;34m\u001b[0m\n\u001b[0;32m----> 1\u001b[0;31m \u001b[0mbcrypt\u001b[0m\u001b[0;34m.\u001b[0m\u001b[0mhashpw\u001b[0m\u001b[0;34m(\u001b[0m\u001b[0;34mb'yossi123'\u001b[0m\u001b[0;34m,\u001b[0m \u001b[0mbcrypt\u001b[0m\u001b[0;34m.\u001b[0m\u001b[0mgensalt\u001b[0m\u001b[0;34m(\u001b[0m\u001b[0;34m)\u001b[0m\u001b[0;34m,\u001b[0m \u001b[0mrounds\u001b[0m\u001b[0;34m=\u001b[0m\u001b[0;36m10\u001b[0m\u001b[0;34m)\u001b[0m\u001b[0;34m\u001b[0m\u001b[0;34m\u001b[0m\u001b[0m\n\u001b[0m",
      "\u001b[0;31mTypeError\u001b[0m: hashpw() got an unexpected keyword argument 'rounds'"
     ]
    }
   ],
   "source": [
    "bcrypt.hashpw(b'yossi123', bcrypt.gensalt(), rounds=10)"
   ]
  },
  {
   "cell_type": "code",
   "execution_count": 40,
   "metadata": {},
   "outputs": [],
   "source": [
    "salt = bcrypt.gensalt(prefix=b'2b', rounds=10)"
   ]
  },
  {
   "cell_type": "code",
   "execution_count": 41,
   "metadata": {},
   "outputs": [
    {
     "data": {
      "text/plain": [
       "b'$2b$10$1SnqVJfSPGd0KHxCfSYCBe'"
      ]
     },
     "execution_count": 41,
     "metadata": {},
     "output_type": "execute_result"
    }
   ],
   "source": [
    "salt"
   ]
  },
  {
   "cell_type": "code",
   "execution_count": 42,
   "metadata": {},
   "outputs": [
    {
     "data": {
      "text/plain": [
       "b'$2b$10$1SnqVJfSPGd0KHxCfSYCBeWVj3de0d8OPhmwIePFvE1786LZQO2NK'"
      ]
     },
     "execution_count": 42,
     "metadata": {},
     "output_type": "execute_result"
    }
   ],
   "source": [
    "bcrypt.hashpw(b'yossi123', salt)"
   ]
  },
  {
   "cell_type": "code",
   "execution_count": null,
   "metadata": {},
   "outputs": [],
   "source": []
  }
 ],
 "metadata": {
  "kernelspec": {
   "display_name": "Python 3",
   "language": "python",
   "name": "python3"
  },
  "language_info": {
   "codemirror_mode": {
    "name": "ipython",
    "version": 3
   },
   "file_extension": ".py",
   "mimetype": "text/x-python",
   "name": "python",
   "nbconvert_exporter": "python",
   "pygments_lexer": "ipython3",
   "version": "3.9.0"
  }
 },
 "nbformat": 4,
 "nbformat_minor": 4
}
